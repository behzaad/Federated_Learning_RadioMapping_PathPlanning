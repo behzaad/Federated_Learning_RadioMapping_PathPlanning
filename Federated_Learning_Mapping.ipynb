{
  "nbformat": 4,
  "nbformat_minor": 0,
  "metadata": {
    "colab": {
      "name": "Federated_Learning_Mapping.ipynb",
      "provenance": [],
      "collapsed_sections": []
    },
    "kernelspec": {
      "name": "python3",
      "display_name": "Python 3"
    }
  },
  "cells": [
    {
      "cell_type": "markdown",
      "metadata": {
        "id": "OFKb7CXeICYB",
        "colab_type": "text"
      },
      "source": [
        "This notebook is my simulations for the submitted Globecom Paper. The title of the paper is:\n",
        "\n",
        "**Federated Learning for Cellular-connected UAVs: Radio Mapping and Path Planning**"
      ]
    },
    {
      "cell_type": "code",
      "metadata": {
        "id": "UQkZ5rFBDbOw",
        "colab_type": "code",
        "colab": {}
      },
      "source": [
        "import torch\n",
        "import torch.nn as nn\n",
        "import torch.nn.functional as F\n",
        "from torch.autograd import Variable\n",
        "import torch.optim as optim\n",
        "\n",
        "\n",
        "import numpy as np\n",
        "import matplotlib.pyplot as plt\n",
        "import random\n",
        "import math"
      ],
      "execution_count": 0,
      "outputs": []
    },
    {
      "cell_type": "code",
      "metadata": {
        "id": "UMtls7WAD8os",
        "colab_type": "code",
        "colab": {}
      },
      "source": [
        "# random point generator inside a square. The length is d, the left down corner is given by corner. \n",
        "def Points_generator(corner, d, N_points):\n",
        "  Points = np.zeros((N_points,2)) \n",
        "  for n in range(N_points):\n",
        "    x = corner[0] + d*random.random()\n",
        "    y = corner[0] + d*random.random()\n",
        "    Points[n,0] = x\n",
        "    Points[n,1] = y\n",
        "\n",
        "  return Points\n",
        "\n",
        "# data generator:\n",
        "def data_generator(n_samples,thr ):\n",
        "  P = 0.2 # GBS transmit power\n",
        "  ## Location of the GBSs:\n",
        "  x = [5, 6.8, 6.4, 5, 3.2, 1.5, 3.4, 3.2, 2, 1, 1.7, 3.6, 6, 5.3, 7, 8.4, 8, 7.5]\n",
        "  y = [5, 5, 6.7, 8, 7.8, 7.5, 5.7, 4.5, 5, 3.4, 2,2, 3.4, 1.6, 1, 5, 3.2, 7.5]\n",
        "  BS = {}\n",
        "  Points = Points_generator([0,0], 10, n_samples)\n",
        "  rss = {}\n",
        "  for b in range(len(x)):\n",
        "    BS[b] = np.zeros((2))\n",
        "    BS[b][0] = x[b]\n",
        "    BS[b][1] = y[b]\n",
        "    rss[b] = np.zeros(n_samples)\n",
        "  \n",
        "  RSS =np.zeros(n_samples)\n",
        "  for n in range(n_samples):\n",
        "    for b in BS.keys():\n",
        "      #Since the altitude of the UAV is 100m, we use 0.1km so 0.1*0.1 = 0.01 \n",
        "      distance = (np.linalg.norm(Points[n,:]-BS[b]))**2 + 0.01\n",
        "      rss[b][n] = np.divide(P*random.random(), (84*84*1000*1000*distance) )\n",
        "    temp_var = np.sum([rss[b][n] for b in BS.keys()])\n",
        "    RSS[n] = max([ rss[b][n]/(temp_var - rss[b][n]+ 10**(-14)) for b in BS.keys()  ])\n",
        "  RSS = np.float32(RSS)\n",
        "  RSS_target = np.copy(RSS)\n",
        "  for r in range(n_samples):\n",
        "    if RSS[r] > thr:\n",
        "      RSS_target[r] = 1\n",
        "    else:\n",
        "      RSS_target[r] = 0 \n",
        "  #print(RSS)\n",
        "  RSS_target = RSS_target.astype(int)\n",
        "  RSS_target = torch.tensor(RSS_target)\n",
        "  RSS_target = RSS_target#.view(-1, 1)\n",
        "\n",
        "\n",
        "  Points = np.float32(Points)\n",
        "  Points = torch.tensor(Points)\n",
        "  \n",
        "  return Points, RSS_target"
      ],
      "execution_count": 0,
      "outputs": []
    },
    {
      "cell_type": "markdown",
      "metadata": {
        "id": "fWOmd7ghRdb3",
        "colab_type": "text"
      },
      "source": [
        "**Neural Network:**\n",
        "\n",
        "Now, we define the Neural Network."
      ]
    },
    {
      "cell_type": "code",
      "metadata": {
        "id": "bmyhNSu4EGPX",
        "colab_type": "code",
        "colab": {}
      },
      "source": [
        "class DNN(nn.Module):\n",
        "    def __init__(self, n_hidden):\n",
        "        super(DNN, self).__init__()\n",
        "        self.fc1 = nn.Linear(2, n_hidden)\n",
        "        self.fc2 = nn.Linear(n_hidden, n_hidden)\n",
        "        self.fc3 = nn.Linear(n_hidden, n_hidden)\n",
        "        #self.fc4 = nn.Linear(n_hidden, n_hidden)\n",
        "        self.fc5 = nn.Linear(n_hidden, 2)\n",
        "        #self.fc2 = nn.Linear(n_hidden, n_hidden)\n",
        "        #self.h_pi = nn.Linear(n_hidden, n_gaussians)\n",
        "        #self.h_mu = nn.Linear(n_hidden, n_gaussians)\n",
        "        #self.h_sigma = nn.Linear(n_hidden, n_gaussians)\n",
        "        \n",
        "    def forward(self, x):\n",
        "        z = F.relu(self.fc1(x))\n",
        "        z = F.relu(self.fc2(z))\n",
        "        z = F.relu(self.fc3(z))\n",
        "        #z = torch.tanh(self.fc4(z))\n",
        "        #output= F.dropout(z, p = .4 , training = True)\n",
        "        output = F.softmax(self.fc5(z))\n",
        "        return output"
      ],
      "execution_count": 0,
      "outputs": []
    },
    {
      "cell_type": "code",
      "metadata": {
        "id": "89vWEsi6EZdX",
        "colab_type": "code",
        "colab": {}
      },
      "source": [
        "def worker_update(worker_model, optimizer, Points, RSS_targets, epoch):\n",
        "  running_loss = 0\n",
        "  for e in range(epoch):\n",
        "    optimizer.zero_grad()\n",
        "    outputs = worker_model(Points)\n",
        "    loss = criterion(outputs, RSS_target)\n",
        "    loss.backward()\n",
        "    optimizer.step()\n",
        "    running_loss += loss.item()\n",
        "  return running_loss\n",
        "\n",
        "\n",
        "def server_aggregate(global_model, worker_models):\n",
        "  global_dict = global_model.state_dict()\n",
        "  for k in global_dict.keys():\n",
        "    global_dict[k] = torch.stack([worker_models[i].state_dict()[k] for i in range(len(worker_models))], 0).mean(0)\n",
        "  global_model.load_state_dict(global_dict)\n",
        "  for model in worker_models:\n",
        "    model.load_state_dict(global_model.state_dict())"
      ],
      "execution_count": 0,
      "outputs": []
    },
    {
      "cell_type": "code",
      "metadata": {
        "id": "IeTrD554F6AS",
        "colab_type": "code",
        "colab": {}
      },
      "source": [
        "num_workers = 10\n",
        "\n",
        "global_model = DNN(n_hidden = 256)\n",
        "worker_models = [DNN(n_hidden = 256) for _ in range(num_workers)]\n",
        "for model in worker_models:\n",
        "    model.load_state_dict(global_model.state_dict())\n",
        "\n",
        "criterion = nn.CrossEntropyLoss()\n",
        "optimizer = [optim.Adam(model.parameters()) for model in worker_models]\n",
        "\n"
      ],
      "execution_count": 0,
      "outputs": []
    },
    {
      "cell_type": "code",
      "metadata": {
        "id": "0UqvPp7tGJSc",
        "colab_type": "code",
        "outputId": "90320bab-5d56-487b-997b-c340dab74f65",
        "colab": {
          "base_uri": "https://localhost:8080/",
          "height": 426
        }
      },
      "source": [
        "num_rounds = 200\n",
        "epochs = 10\n",
        "n_samples = 1000\n",
        "thr = .65\n",
        "Avg_Loss_rounds = np.zeros(num_rounds) \n",
        "loss = np.zeros(num_workers)\n",
        "loss_rounds = np.zeros((num_rounds,num_workers))\n",
        "Points, RSS_target = data_generator(n_samples,thr )\n",
        "Data = {}\n",
        "for w in range(num_workers):\n",
        "  Data[w]={}\n",
        "  Data[w]['Points'] = Points \n",
        "  Data[w]['RSS_target'] = RSS_target\n",
        "\n",
        "for r in range(num_rounds):\n",
        "  for w in range(num_workers):\n",
        "    Points, RSS_target = data_generator(n_samples,thr )\n",
        "    Data[w]['Points'] = Points \n",
        "    Data[w]['RSS_target'] = RSS_target\n",
        "    loss[w] += worker_update(worker_models[w], optimizer[w], Data[w]['Points'], Data[w]['RSS_target'], epoch=epochs)\n",
        "    # select random clients\n",
        "    #client_idx = np.random.permutation(num_clients)[:num_selected]\n",
        "\n",
        "    loss_rounds[r,w] = np.copy(loss[w])#/((r+1)*epochs)\n",
        "    # client update\n",
        "\n",
        "    \n",
        "    # server aggregate\n",
        "  server_aggregate(global_model, worker_models)\n",
        "  Avg_Loss_rounds[r] = (np.mean(loss_rounds[r,:]))/((r+1)*epochs)\n",
        "  if r%10 == 0:\n",
        "    print('round number {0}'.format(r))\n",
        "    #print('round: {0}, loss1 = {1}, loss2 = {2}'.format(r,loss[0]/((r+1)*epochs), loss[1]/((r+1)*epochs)))\n",
        "#plt.figure()\n",
        "#plt.plot(range(num_rounds),Avg_Loss_rounds, c = 'red')\n",
        "#plt.show()\n",
        "#print(Avg_Loss_rounds[-1])"
      ],
      "execution_count": 0,
      "outputs": [
        {
          "output_type": "stream",
          "text": [
            "/usr/local/lib/python3.6/dist-packages/ipykernel_launcher.py:20: UserWarning: Implicit dimension choice for softmax has been deprecated. Change the call to include dim=X as an argument.\n"
          ],
          "name": "stderr"
        },
        {
          "output_type": "error",
          "ename": "KeyboardInterrupt",
          "evalue": "ignored",
          "traceback": [
            "\u001b[0;31m---------------------------------------------------------------------------\u001b[0m",
            "\u001b[0;31mKeyboardInterrupt\u001b[0m                         Traceback (most recent call last)",
            "\u001b[0;32m<ipython-input-6-fb1f299a3f92>\u001b[0m in \u001b[0;36m<module>\u001b[0;34m()\u001b[0m\n\u001b[1;32m     18\u001b[0m     \u001b[0mData\u001b[0m\u001b[0;34m[\u001b[0m\u001b[0mw\u001b[0m\u001b[0;34m]\u001b[0m\u001b[0;34m[\u001b[0m\u001b[0;34m'Points'\u001b[0m\u001b[0;34m]\u001b[0m \u001b[0;34m=\u001b[0m \u001b[0mPoints\u001b[0m\u001b[0;34m\u001b[0m\u001b[0;34m\u001b[0m\u001b[0m\n\u001b[1;32m     19\u001b[0m     \u001b[0mData\u001b[0m\u001b[0;34m[\u001b[0m\u001b[0mw\u001b[0m\u001b[0;34m]\u001b[0m\u001b[0;34m[\u001b[0m\u001b[0;34m'RSS_target'\u001b[0m\u001b[0;34m]\u001b[0m \u001b[0;34m=\u001b[0m \u001b[0mRSS_target\u001b[0m\u001b[0;34m\u001b[0m\u001b[0;34m\u001b[0m\u001b[0m\n\u001b[0;32m---> 20\u001b[0;31m     \u001b[0mloss\u001b[0m\u001b[0;34m[\u001b[0m\u001b[0mw\u001b[0m\u001b[0;34m]\u001b[0m \u001b[0;34m+=\u001b[0m \u001b[0mworker_update\u001b[0m\u001b[0;34m(\u001b[0m\u001b[0mworker_models\u001b[0m\u001b[0;34m[\u001b[0m\u001b[0mw\u001b[0m\u001b[0;34m]\u001b[0m\u001b[0;34m,\u001b[0m \u001b[0moptimizer\u001b[0m\u001b[0;34m[\u001b[0m\u001b[0mw\u001b[0m\u001b[0;34m]\u001b[0m\u001b[0;34m,\u001b[0m \u001b[0mData\u001b[0m\u001b[0;34m[\u001b[0m\u001b[0mw\u001b[0m\u001b[0;34m]\u001b[0m\u001b[0;34m[\u001b[0m\u001b[0;34m'Points'\u001b[0m\u001b[0;34m]\u001b[0m\u001b[0;34m,\u001b[0m \u001b[0mData\u001b[0m\u001b[0;34m[\u001b[0m\u001b[0mw\u001b[0m\u001b[0;34m]\u001b[0m\u001b[0;34m[\u001b[0m\u001b[0;34m'RSS_target'\u001b[0m\u001b[0;34m]\u001b[0m\u001b[0;34m,\u001b[0m \u001b[0mepoch\u001b[0m\u001b[0;34m=\u001b[0m\u001b[0mepochs\u001b[0m\u001b[0;34m)\u001b[0m\u001b[0;34m\u001b[0m\u001b[0;34m\u001b[0m\u001b[0m\n\u001b[0m\u001b[1;32m     21\u001b[0m     \u001b[0;31m# select random clients\u001b[0m\u001b[0;34m\u001b[0m\u001b[0;34m\u001b[0m\u001b[0;34m\u001b[0m\u001b[0m\n\u001b[1;32m     22\u001b[0m     \u001b[0;31m#client_idx = np.random.permutation(num_clients)[:num_selected]\u001b[0m\u001b[0;34m\u001b[0m\u001b[0;34m\u001b[0m\u001b[0;34m\u001b[0m\u001b[0m\n",
            "\u001b[0;32m<ipython-input-4-60af7b41ca60>\u001b[0m in \u001b[0;36mworker_update\u001b[0;34m(worker_model, optimizer, Points, RSS_targets, epoch)\u001b[0m\n\u001b[1;32m      5\u001b[0m     \u001b[0moutputs\u001b[0m \u001b[0;34m=\u001b[0m \u001b[0mworker_model\u001b[0m\u001b[0;34m(\u001b[0m\u001b[0mPoints\u001b[0m\u001b[0;34m)\u001b[0m\u001b[0;34m\u001b[0m\u001b[0;34m\u001b[0m\u001b[0m\n\u001b[1;32m      6\u001b[0m     \u001b[0mloss\u001b[0m \u001b[0;34m=\u001b[0m \u001b[0mcriterion\u001b[0m\u001b[0;34m(\u001b[0m\u001b[0moutputs\u001b[0m\u001b[0;34m,\u001b[0m \u001b[0mRSS_target\u001b[0m\u001b[0;34m)\u001b[0m\u001b[0;34m\u001b[0m\u001b[0;34m\u001b[0m\u001b[0m\n\u001b[0;32m----> 7\u001b[0;31m     \u001b[0mloss\u001b[0m\u001b[0;34m.\u001b[0m\u001b[0mbackward\u001b[0m\u001b[0;34m(\u001b[0m\u001b[0;34m)\u001b[0m\u001b[0;34m\u001b[0m\u001b[0;34m\u001b[0m\u001b[0m\n\u001b[0m\u001b[1;32m      8\u001b[0m     \u001b[0moptimizer\u001b[0m\u001b[0;34m.\u001b[0m\u001b[0mstep\u001b[0m\u001b[0;34m(\u001b[0m\u001b[0;34m)\u001b[0m\u001b[0;34m\u001b[0m\u001b[0;34m\u001b[0m\u001b[0m\n\u001b[1;32m      9\u001b[0m     \u001b[0mrunning_loss\u001b[0m \u001b[0;34m+=\u001b[0m \u001b[0mloss\u001b[0m\u001b[0;34m.\u001b[0m\u001b[0mitem\u001b[0m\u001b[0;34m(\u001b[0m\u001b[0;34m)\u001b[0m\u001b[0;34m\u001b[0m\u001b[0;34m\u001b[0m\u001b[0m\n",
            "\u001b[0;32m/usr/local/lib/python3.6/dist-packages/torch/tensor.py\u001b[0m in \u001b[0;36mbackward\u001b[0;34m(self, gradient, retain_graph, create_graph)\u001b[0m\n\u001b[1;32m    196\u001b[0m                 \u001b[0mproducts\u001b[0m\u001b[0;34m.\u001b[0m \u001b[0mDefaults\u001b[0m \u001b[0mto\u001b[0m\u001b[0;31m \u001b[0m\u001b[0;31m`\u001b[0m\u001b[0;31m`\u001b[0m\u001b[0;32mFalse\u001b[0m\u001b[0;31m`\u001b[0m\u001b[0;31m`\u001b[0m\u001b[0;34m.\u001b[0m\u001b[0;34m\u001b[0m\u001b[0;34m\u001b[0m\u001b[0m\n\u001b[1;32m    197\u001b[0m         \"\"\"\n\u001b[0;32m--> 198\u001b[0;31m         \u001b[0mtorch\u001b[0m\u001b[0;34m.\u001b[0m\u001b[0mautograd\u001b[0m\u001b[0;34m.\u001b[0m\u001b[0mbackward\u001b[0m\u001b[0;34m(\u001b[0m\u001b[0mself\u001b[0m\u001b[0;34m,\u001b[0m \u001b[0mgradient\u001b[0m\u001b[0;34m,\u001b[0m \u001b[0mretain_graph\u001b[0m\u001b[0;34m,\u001b[0m \u001b[0mcreate_graph\u001b[0m\u001b[0;34m)\u001b[0m\u001b[0;34m\u001b[0m\u001b[0;34m\u001b[0m\u001b[0m\n\u001b[0m\u001b[1;32m    199\u001b[0m \u001b[0;34m\u001b[0m\u001b[0m\n\u001b[1;32m    200\u001b[0m     \u001b[0;32mdef\u001b[0m \u001b[0mregister_hook\u001b[0m\u001b[0;34m(\u001b[0m\u001b[0mself\u001b[0m\u001b[0;34m,\u001b[0m \u001b[0mhook\u001b[0m\u001b[0;34m)\u001b[0m\u001b[0;34m:\u001b[0m\u001b[0;34m\u001b[0m\u001b[0;34m\u001b[0m\u001b[0m\n",
            "\u001b[0;32m/usr/local/lib/python3.6/dist-packages/torch/autograd/__init__.py\u001b[0m in \u001b[0;36mbackward\u001b[0;34m(tensors, grad_tensors, retain_graph, create_graph, grad_variables)\u001b[0m\n\u001b[1;32m     98\u001b[0m     Variable._execution_engine.run_backward(\n\u001b[1;32m     99\u001b[0m         \u001b[0mtensors\u001b[0m\u001b[0;34m,\u001b[0m \u001b[0mgrad_tensors\u001b[0m\u001b[0;34m,\u001b[0m \u001b[0mretain_graph\u001b[0m\u001b[0;34m,\u001b[0m \u001b[0mcreate_graph\u001b[0m\u001b[0;34m,\u001b[0m\u001b[0;34m\u001b[0m\u001b[0;34m\u001b[0m\u001b[0m\n\u001b[0;32m--> 100\u001b[0;31m         allow_unreachable=True)  # allow_unreachable flag\n\u001b[0m\u001b[1;32m    101\u001b[0m \u001b[0;34m\u001b[0m\u001b[0m\n\u001b[1;32m    102\u001b[0m \u001b[0;34m\u001b[0m\u001b[0m\n",
            "\u001b[0;31mKeyboardInterrupt\u001b[0m: "
          ]
        }
      ]
    },
    {
      "cell_type": "code",
      "metadata": {
        "id": "2N79VVbdIWRN",
        "colab_type": "code",
        "outputId": "8574b023-f48f-46c5-8edb-4b31866a4817",
        "colab": {
          "base_uri": "https://localhost:8080/",
          "height": 332
        }
      },
      "source": [
        "plt.figure(tight_layout=True)\n",
        "L_part2_10 = [0.584, 0.578, 0.572, 0.571, 0.570, 0.570,0.571,0.571]\n",
        "L_part2_2 = [0.654, 0.649, 0.644, 0.643, 0.644,0.638, 0.638,0.641]\n",
        "n_Workers = [2, 4, 6, 8, 10, 12, 14, 16]\n",
        "plt.plot(n_Workers, L_part2_2, c ='blue', marker = 'o', label ='H = 2')\n",
        "plt.plot(n_Workers, L_part2_10, c ='red', marker = 'o', label ='H = 10')\n",
        "plt.legend(loc='best',fontsize = 14)\n",
        "plt.xlabel('number of collaborating UAVs', fontsize = 14)\n",
        "plt.ylabel('Loss', fontsize = 14)\n",
        "#plt.gca().set_aspect('equal', adjustable='box')\n",
        "plt.savefig('L2.eps',format = 'eps')\n",
        "plt.show()\n",
        "\n"
      ],
      "execution_count": 0,
      "outputs": [
        {
          "output_type": "stream",
          "text": [
            "The PostScript backend does not support transparency; partially transparent artists will be rendered opaque.\n",
            "The PostScript backend does not support transparency; partially transparent artists will be rendered opaque.\n"
          ],
          "name": "stderr"
        },
        {
          "output_type": "display_data",
          "data": {
            "image/png": "[encoded data removed]",
            "text/plain": [
              "<Figure size 432x288 with 1 Axes>"
            ]
          },
          "metadata": {
            "tags": [],
            "needs_background": "light"
          }
        }
      ]
    },
    {
      "cell_type": "code",
      "metadata": {
        "id": "PlERyGg0Ox_N",
        "colab_type": "code",
        "colab": {}
      },
      "source": [
        "##Epoch =2\n",
        "L2 = Avg_Loss_rounds"
      ],
      "execution_count": 0,
      "outputs": []
    },
    {
      "cell_type": "code",
      "metadata": {
        "id": "c_cMCRDoPiHj",
        "colab_type": "code",
        "colab": {}
      },
      "source": [
        "L10 = Avg_Loss_rounds"
      ],
      "execution_count": 0,
      "outputs": []
    },
    {
      "cell_type": "code",
      "metadata": {
        "id": "DNPul1bfQh6f",
        "colab_type": "code",
        "colab": {}
      },
      "source": [
        "L30 = Avg_Loss_rounds"
      ],
      "execution_count": 0,
      "outputs": []
    },
    {
      "cell_type": "code",
      "metadata": {
        "id": "TNc632Zkwfgn",
        "colab_type": "code",
        "colab": {}
      },
      "source": [
        "L100 = Avg_Loss_rounds"
      ],
      "execution_count": 0,
      "outputs": []
    },
    {
      "cell_type": "code",
      "metadata": {
        "id": "xgBS8qt9O6m7",
        "colab_type": "code",
        "outputId": "75ccdf22-0f76-4940-bf02-d2ee3e18b156",
        "colab": {
          "base_uri": "https://localhost:8080/",
          "height": 296
        }
      },
      "source": [
        "plt.figure(tight_layout=True)\n",
        "plt.plot(range(num_rounds), L2 , c = 'blue', label='H = 2')\n",
        "plt.plot(range(num_rounds), L10 , c = 'red', label='H = 10')\n",
        "plt.plot(range(num_rounds), L30 , c = 'green', label='H = 30')\n",
        "plt.plot(range(num_rounds), L100 , c = 'k', label='H = 100')\n",
        "plt.legend(loc = 1, fontsize = 12)\n",
        "#plt.grid(color='k', ls = '-.')\n",
        "#plt.grid(True)\n",
        "plt.ylabel('Loss', fontsize = 14)\n",
        "plt.xlabel('round', fontsize = 14)\n",
        "#plt.gca().set_aspect('equal', adjustable='box')\n",
        "plt.savefig('L1.pdf',format = 'pdf')\n",
        "plt.show()"
      ],
      "execution_count": 0,
      "outputs": [
        {
          "output_type": "display_data",
          "data": {
            "image/png": "[encoded data removed]",
            "text/plain": [
              "<Figure size 432x288 with 1 Axes>"
            ]
          },
          "metadata": {
            "tags": [],
            "needs_background": "light"
          }
        }
      ]
    },
    {
      "cell_type": "code",
      "metadata": {
        "id": "J15FdBJsG9Ss",
        "colab_type": "code",
        "outputId": "9852d547-dd9b-4b0c-c2d0-f13f159f90b7",
        "colab": {
          "base_uri": "https://localhost:8080/",
          "height": 72
        }
      },
      "source": [
        "import dill                            #pip install dill --user\n",
        "filename = 'globalsave.pkl'\n",
        "dill.dump_session(filename)"
      ],
      "execution_count": 0,
      "outputs": [
        {
          "output_type": "stream",
          "text": [
            "/usr/local/lib/python3.6/dist-packages/torch/storage.py:34: FutureWarning: pickle support for Storage will be removed in 1.5. Use `torch.save` instead\n",
            "  warnings.warn(\"pickle support for Storage will be removed in 1.5. Use `torch.save` instead\", FutureWarning)\n"
          ],
          "name": "stderr"
        }
      ]
    },
    {
      "cell_type": "markdown",
      "metadata": {
        "id": "AgpqHgXIJOOR",
        "colab_type": "text"
      },
      "source": [
        "Based on the output of the trained neural network, we can obtain the outage probability in each point of the environment. the coordinates of these points are (x,y,H)"
      ]
    },
    {
      "cell_type": "code",
      "metadata": {
        "id": "4GNdP7J9QIGH",
        "colab_type": "code",
        "outputId": "e199de5b-4138-4b61-fd81-25e10d9303de",
        "colab": {
          "base_uri": "https://localhost:8080/",
          "height": 334
        }
      },
      "source": [
        "M=30\n",
        "x = np.linspace(0,10,M)\n",
        "y = np.linspace(0,10,M)\n",
        "#X,Y = np.meshgrid(x,y)\n",
        "probb = np.zeros((M,M))\n",
        "#model.eval()\n",
        "\n",
        "with torch.no_grad():\n",
        "  for ii in range(M):\n",
        "    for jj in range(M):\n",
        "      a = np.float32([ x[ii], y[jj] ])#.tolist()    \n",
        "      probb[ii,jj] = global_model(torch.tensor(a))[0]\n",
        "\n",
        "\n",
        "\n",
        "#plt.figure()\n",
        "plt.figure(tight_layout=True)\n",
        "#plt.style.use('classic')\n",
        "probb = probb.T\n",
        "plt.contourf(x,y,1- probb, 20)\n",
        "v = np.linspace(0, 1.0, 11, endpoint=True)\n",
        "cbar=plt.colorbar()\n",
        "cbar.set_label('coverage probability',labelpad=20, rotation=90,fontsize=14) \n",
        "plt.xlabel('x (km)',fontsize=14)\n",
        "plt.ylabel('y (km)',fontsize=14)\n",
        "\n",
        "#x = [5, 6.8, 6.4, 5, 3.2, 1.5, 3.4, 3.2, 2, 1, 1.7, 3.6, 6, 5.3, 7, 8.4, 8, 7.5]\n",
        "#y = [5, 5, 6.7, 8, 7.8, 7.5, 5.7, 4.5, 5, 3.4, 2,2, 3.4, 1.6, 1, 5, 3.2, 7.5]\n",
        "#plt.scatter(x,y, marker = \"^\", s = 20, c = 'k', alpha=0.3)\n",
        "plt.gca().set_aspect('equal', adjustable='box')\n",
        "plt.savefig('Outage.eps',format = 'eps')\n",
        "plt.show()\n"
      ],
      "execution_count": 0,
      "outputs": [
        {
          "output_type": "stream",
          "text": [
            "/usr/local/lib/python3.6/dist-packages/ipykernel_launcher.py:20: UserWarning: Implicit dimension choice for softmax has been deprecated. Change the call to include dim=X as an argument.\n"
          ],
          "name": "stderr"
        },
        {
          "output_type": "display_data",
          "data": {
            "image/png": "[encoded data removed]",
            "text/plain": [
              "<Figure size 432x288 with 2 Axes>"
            ]
          },
          "metadata": {
            "tags": [],
            "needs_background": "light"
          }
        }
      ]
    },
    {
      "cell_type": "markdown",
      "metadata": {
        "id": "3jDUHTXXFTcx",
        "colab_type": "text"
      },
      "source": [
        "Now, we draw the location of the GBSs to be able to assess the quality of our trained model:\n"
      ]
    },
    {
      "cell_type": "code",
      "metadata": {
        "id": "ptRrKPazDSsm",
        "colab_type": "code",
        "outputId": "e65634d2-5530-4859-81a3-19e695478bb0",
        "colab": {
          "base_uri": "https://localhost:8080/",
          "height": 286
        }
      },
      "source": [
        "fig, ax = plt.subplots()\n",
        "x = [5, 6.8, 6.4, 5, 3.2, 1.5, 3.4, 3.2, 2, 1, 1.7, 3.6, 6, 5.3, 7, 8.4, 8, 7.5]\n",
        "y = [5, 5, 6.7, 8, 7.8, 7.5, 5.7, 4.5, 5, 3.4, 2,2, 3.4, 1.6, 1, 5, 3.2, 7.5]\n",
        "for i in range(len(x)):\n",
        "  ax.add_patch(plt.Circle((x[i], y[i]), 1, alpha=0.05))\n",
        "\n",
        "plt.scatter(x,y, marker = \"^\", s = 100, c = 'k', alpha=1, label = 'GBS')\n",
        "plt.xlabel('x (km)',fontsize=14)\n",
        "plt.xlim(0,10)\n",
        "plt.ylabel('y (km)',fontsize=14)\n",
        "plt.ylim(0,10)\n",
        "plt.gca().set_aspect('equal', adjustable='box')\n",
        "plt.grid(False)\n",
        "plt.legend(fontsize=14)\n",
        "plt.savefig('GBS.pdf',format = 'pdf')\n",
        "ax.plot()   #Causes an autoscale update.\n",
        "plt.show()"
      ],
      "execution_count": 0,
      "outputs": [
        {
          "output_type": "display_data",
          "data": {
            "image/png": "[encoded data removed]",
            "text/plain": [
              "<Figure size 432x288 with 1 Axes>"
            ]
          },
          "metadata": {
            "tags": [],
            "needs_background": "light"
          }
        }
      ]
    },
    {
      "cell_type": "code",
      "metadata": {
        "id": "lme5wezL_vw5",
        "colab_type": "code",
        "colab": {}
      },
      "source": [
        "# One snap-shot of the radiations:\n",
        "\n",
        "M = 50\n",
        "x = np.linspace(0,10,M)\n",
        "y = np.linspace(0,10,M)\n",
        "#print(x)\n",
        "#X,Y = np.meshgrid(x,y)\n",
        "val = np.zeros((M,M))\n",
        "for ii in range(M):\n",
        "  for jj in range(M):\n",
        "    val[ii,jj] = Gain([ x[ii], y[jj] ])\n",
        "plt.figure()\n",
        "plt.contourf(x,y, val.T)\n",
        "v = np.linspace(0, 100, 5, endpoint=True)\n",
        "cbar=plt.colorbar(ticks=v, )\n",
        "cbar.set_label('Received Power',labelpad=20, rotation=270,fontsize=14)\n",
        "#plt.scatter(Data[:,0], Data[:,1],RSS)\n",
        "#plt.scatter(x,y, c = 'red')\n",
        "plt.gca().set_aspect('equal', adjustable='box')\n",
        "x = [5, 6.8, 6.4, 5, 3.2, 1.5, 3.4, 3.2, 2, 1, 1.7, 3.6, 6, 5.3, 7, 8.4, 8, 7.5]\n",
        "y = [5, 5, 6.7, 8, 7.8, 7.5, 5.7, 4.5, 5, 3.4, 2,2, 3.4, 1.6, 1, 5, 3.2, 7.5]\n",
        "plt.scatter(x,y)\n",
        "plt.show()\n",
        "#print(val[20,:])"
      ],
      "execution_count": 0,
      "outputs": []
    },
    {
      "cell_type": "code",
      "metadata": {
        "id": "fJV0AyVd_4dL",
        "colab_type": "code",
        "colab": {}
      },
      "source": [
        "def Gain(Points):\n",
        "  n_samples = 1\n",
        "  P = 0.2\n",
        "  x = [5, 6.8, 6.4, 5, 3.2, 1.5, 3.4, 3.2, 2, 1, 1.7, 3.6, 6, 5.3, 7, 8.4, 8, 7.5]\n",
        "  y = [5, 5, 6.7, 8, 7.8, 7.5, 5.7, 4.5, 5, 3.4, 2,2, 3.4, 1.6, 1, 5, 3.2, 7.5]\n",
        "  BS = {}\n",
        "  rss = {}\n",
        "  for b in range(len(x)):\n",
        "    BS[b] = np.zeros((2))\n",
        "    BS[b][0] = x[b]\n",
        "    BS[b][1] = y[b]\n",
        "    rss[b] = np.zeros(n_samples)\n",
        "  \n",
        "  RSS =np.zeros((n_samples,1))\n",
        "  for n in range(n_samples):\n",
        "    for b in BS.keys():\n",
        "      distance = (np.linalg.norm(Points-BS[b]))**2 + 0.01\n",
        "      rss[b][n] = np.divide(P*random.random(), (84*84*1000*1000*distance) )\n",
        "    temp_var = np.sum([rss[b][n] for b in BS.keys()])\n",
        "    RSS[n] = max([ rss[b][n]/(temp_var - rss[b][n] +10**(-14) ) for b in BS.keys()  ])\n",
        "\n",
        "  RSS = np.float32(RSS)\n",
        "  RSS = torch.tensor(RSS)  \n",
        "  return RSS"
      ],
      "execution_count": 0,
      "outputs": []
    },
    {
      "cell_type": "markdown",
      "metadata": {
        "id": "976qlw1Rymn1",
        "colab_type": "text"
      },
      "source": [
        "**************************************"
      ]
    },
    {
      "cell_type": "markdown",
      "metadata": {
        "id": "wVCEZH96Juba",
        "colab_type": "text"
      },
      "source": [
        "Now, after this training, we can use RRT* to design the trajectory of the UAVs. "
      ]
    },
    {
      "cell_type": "code",
      "metadata": {
        "id": "7LxRp9oJesWj",
        "colab_type": "code",
        "colab": {}
      },
      "source": [
        "class Node:\n",
        "  def __init__(self, coord, parent, cost):\n",
        "    \n",
        "    self.coord = coord\n",
        "    self.parent = parent\n",
        "    self.cost = cost\n",
        "\n",
        "class RRT:\n",
        "  def __init__(self,model):\n",
        "    self.model = model\n",
        "    self.nodes = {}\n",
        "    self.q_start = Node([9, 5],0,0)\n",
        "    self.q_goal = Node([8.5,8], None, 0)\n",
        "\n",
        "\n",
        "  def steer(self,qr, qn, val, eps):\n",
        "    qnew = [0,0]\n",
        "    if val >= eps:\n",
        "      dist = np.linalg.norm (np.subtract(qr,qn))\n",
        "      qnew[0] = qn[0] + ((qr[0] - qn[0])*eps)/dist\n",
        "      qnew[1] = qn[1] + ((qr[1] - qn[1])*eps)/dist\n",
        "    else:\n",
        "      qnew[0] = qr[0]\n",
        "      qnew[1] = qr[1]\n",
        "    return [qnew[0],qnew[1]]\n",
        "\n",
        "\n",
        "\n",
        "\n",
        "  def constraints(self,n2,n1):\n",
        "    # if satisfied return True\n",
        "    a = np.float32(n2)\n",
        "    b = np.float32(n1)\n",
        "    #a = np.float32([ x[ii], y[jj] ])#.tolist()    \n",
        "    prob_1= self.model(torch.tensor(a))[1]\n",
        "    prob_2= self.model(torch.tensor(b))[1]\n",
        "    if prob_1 > 0.5 and prob_2 >0.5:\n",
        "      return True\n",
        "    else:\n",
        "      return False\n"
      ],
      "execution_count": 0,
      "outputs": []
    },
    {
      "cell_type": "code",
      "metadata": {
        "id": "7nmkrM2fLuDw",
        "colab_type": "code",
        "outputId": "1910ca2a-debc-45b0-e983-ccdb03f30a32",
        "colab": {
          "base_uri": "https://localhost:8080/",
          "height": 321
        }
      },
      "source": [
        "num_Nodes = 3000\n",
        "x_max = 5\n",
        "y_max = 5\n",
        "#EPS = 0.05\n",
        "EPS = 0.1\n",
        "r=0.2\n",
        "\n",
        "rrt = RRT(model)\n",
        "rrt.nodes[0] = rrt.q_start\n",
        "plt.figure()\n",
        "for n in range(num_Nodes):\n",
        "  q_rand = [5 + random.random()*x_max, 5 + random.random()*y_max ]\n",
        "  #plt.scatter(q_rand[0],q_rand[1], c = 'k', s = 10)\n",
        "  for j in range(len(rrt.nodes.keys())):\n",
        "    if np.linalg.norm( np.subtract(rrt.nodes[j].coord,rrt.q_goal.coord) ) < 0.5:\n",
        "      break\n",
        "  \n",
        "  ndist = []\n",
        "  for j in range(len(rrt.nodes.keys())):\n",
        "    n = rrt.nodes[j];\n",
        "    tmp = np.linalg.norm( np.subtract(n.coord, q_rand) );\n",
        "    ndist.append(tmp)\n",
        "  val = np.min(ndist)\n",
        "  idx = np.argmin(ndist)\n",
        "  q_near = rrt.nodes[idx]\n",
        "  q_new = Node(None, None, None)\n",
        "  q_new.coord = rrt.steer(q_rand, q_near.coord, val, EPS);\n",
        "  if rrt.constraints(q_rand, q_near.coord):\n",
        "    plt.plot([q_near.coord[0], q_new.coord[0]], [q_near.coord[1], q_new.coord[1]], c = 'b' )\n",
        "    q_new.cost = np.linalg.norm(np.subtract(q_new.coord , q_near.coord)) + q_near.cost;\n",
        "\n",
        "\n",
        "    q_nearest = {}\n",
        "    \n",
        "    neighbor_count = 0\n",
        "    for j in range(len(rrt.nodes.keys())):\n",
        "      if rrt.constraints( rrt.nodes[j].coord , q_new.coord ) and np.linalg.norm( np.subtract( rrt.nodes[j].coord , q_new.coord )) <= r:\n",
        "        q_nearest[neighbor_count] = Node(None, None, None)\n",
        "        q_nearest[neighbor_count].coord = rrt.nodes[j].coord\n",
        "        q_nearest[neighbor_count].cost = rrt.nodes[j].cost\n",
        "        neighbor_count +=1\n",
        "\n",
        "    q_min = q_near\n",
        "    C_min = q_new.cost\n",
        "    #print(q_nearest[0].cost)\n",
        "    for k in range(len(q_nearest.keys())):\n",
        "      if rrt.constraints(q_nearest[k].coord, q_new.coord) and (q_nearest[k].cost + np.linalg.norm( np.subtract(q_nearest[k].coord,q_new.coord)) < C_min):\n",
        "        q_min = q_nearest[k]\n",
        "        C_min = q_nearest[k].cost + np.linalg.norm( np.subtract( q_nearest[k].coord, q_new.coord ) ) \n",
        "        plt.plot([q_min.coord[0], q_new.coord[0]], [q_min.coord[1], q_new.coord[1]], c = 'g')\n",
        "\n",
        "    for j in range(len(rrt.nodes.keys())):\n",
        "      if rrt.nodes[j].coord[0] == q_min.coord[0] and rrt.nodes[j].coord[1] == q_min.coord[1]:\n",
        "        q_new.parent = j\n",
        "    \n",
        "    l = len(rrt.nodes.keys())\n",
        "    rrt.nodes[l] = q_new\n",
        "\n",
        "\n",
        "D = []\n",
        "for j in range(len(rrt.nodes.keys())):\n",
        "    tmpdist = np.linalg.norm(np.subtract(rrt.nodes[j].coord, rrt.q_goal.coord ) ) \n",
        "    D.append(tmpdist)\n",
        "\n",
        "#search backward\n",
        "val = np.min(D)\n",
        "idx = np.argmin(D)\n",
        "\n",
        "q_final = rrt.nodes[idx]\n",
        "rrt.q_goal.parent = idx\n",
        "q_end = rrt.q_goal\n",
        "l = len(rrt.nodes.keys())\n",
        "rrt.nodes[l] = rrt.q_goal\n",
        "while q_end.parent != 0:\n",
        "  start = q_end.parent\n",
        "  plt.plot([q_end.coord[0], rrt.nodes[start].coord[0]] , [q_end.coord[1], rrt.nodes[start].coord[1]] , c = 'r',linewidth=2 )\n",
        "\n",
        "  q_end = rrt.nodes[start]\n",
        "\n",
        "\n",
        "\n",
        "plt.scatter(rrt.q_start.coord[0],rrt.q_start.coord[1], marker = 's', s=100, c = 'red')\n",
        "plt.scatter(rrt.q_goal.coord[0],rrt.q_goal.coord[1], marker = 's', s=100, c = 'g')\n",
        "plt.xlim(0,10)\n",
        "plt.ylim(0,10)\n",
        "plt.xlabel('x (km)')\n",
        "plt.ylabel('y (km)')\n",
        "plt.gca().set_aspect('equal', adjustable='box')\n",
        "plt.savefig('Expansion.pdf',format = 'pdf')\n",
        "plt.show()"
      ],
      "execution_count": 0,
      "outputs": [
        {
          "output_type": "stream",
          "text": [
            "/usr/local/lib/python3.6/dist-packages/ipykernel_launcher.py:20: UserWarning: Implicit dimension choice for softmax has been deprecated. Change the call to include dim=X as an argument.\n"
          ],
          "name": "stderr"
        },
        {
          "output_type": "display_data",
          "data": {
            "image/png": "[encoded data removed]",
            "text/plain": [
              "<Figure size 432x288 with 1 Axes>"
            ]
          },
          "metadata": {
            "tags": [],
            "needs_background": "light"
          }
        }
      ]
    },
    {
      "cell_type": "code",
      "metadata": {
        "id": "7IJQ7VA0OVtk",
        "colab_type": "code",
        "outputId": "1eecc3a4-492c-454a-a7d1-fb377f0946b4",
        "colab": {
          "base_uri": "https://localhost:8080/",
          "height": 286
        }
      },
      "source": [
        "M=30\n",
        "x = np.linspace(0,10,M)\n",
        "y = np.linspace(0,10,M)\n",
        "\n",
        "#PROB = 0.5*(P1+P2) \n",
        "PROB = probb\n",
        "plt.contourf(x,y,1 - PROB, 30)\n",
        "v = np.linspace(0, 1.0, 11, endpoint=True)\n",
        "cbar=plt.colorbar(ticks=v)\n",
        "cbar.set_label('coverage probability',labelpad=20, rotation=90,fontsize=14) \n",
        "plt.xlabel('x (km)',fontsize=14)\n",
        "plt.ylabel('y (km)',fontsize=14)\n",
        "\n",
        "#x = [5, 6.8, 6.4, 5, 3.2, 1.5, 3.4, 3.2, 2, 1, 1.7, 3.6, 6, 5.3, 7, 8.4, 8, 7.5]\n",
        "#y = [5, 5, 6.7, 8, 7.8, 7.5, 5.7, 4.5, 5, 3.4, 2,2, 3.4, 1.6, 1, 5, 3.2, 7.5]\n",
        "#plt.scatter(x,y)\n",
        "plt.gca().set_aspect('equal', adjustable='box')\n",
        "\n",
        "#search backward\n",
        "val = np.min(D)\n",
        "idx = np.argmin(D)\n",
        "#rrt.q_goal.coord = [9,8]\n",
        "q_final = rrt.nodes[idx]\n",
        "rrt.q_goal.parent = idx\n",
        "q_end = rrt.q_goal\n",
        "l = len(rrt.nodes.keys())\n",
        "rrt.nodes[l] = rrt.q_goal\n",
        "while q_end.parent != 0:\n",
        "  start = q_end.parent\n",
        "  plt.plot([q_end.coord[0], rrt.nodes[start].coord[0]] , [q_end.coord[1], rrt.nodes[start].coord[1]] , c = 'r',linewidth=2, )\n",
        "\n",
        "  q_end = rrt.nodes[start]\n",
        "\n",
        "\n",
        "\n",
        "plt.scatter(rrt.q_start.coord[0],rrt.q_start.coord[1], marker = 's',ec = 'k', s=140, c = 'red', label = 'initial')\n",
        "plt.scatter(rrt.q_goal.coord[0],rrt.q_goal.coord[1], marker = 's', ec = 'k',  s=140, c = 'g', label ='final')\n",
        "plt.xlim(0,10)\n",
        "plt.ylim(0,10)\n",
        "plt.legend(loc ='best')\n",
        "plt.gca().set_aspect('equal', adjustable='box')\n",
        "plt.savefig('T2.pdf',format = 'pdf')\n",
        "plt.show()"
      ],
      "execution_count": 0,
      "outputs": [
        {
          "output_type": "display_data",
          "data": {
            "image/png": "[encoded data removed]",
            "text/plain": [
              "<Figure size 432x288 with 2 Axes>"
            ]
          },
          "metadata": {
            "tags": [],
            "needs_background": "light"
          }
        }
      ]
    },
    {
      "cell_type": "code",
      "metadata": {
        "id": "oBwPMBtvd-ZE",
        "colab_type": "code",
        "colab": {}
      },
      "source": [
        "D_1 = D\n",
        "rrt_1 = rrt"
      ],
      "execution_count": 0,
      "outputs": []
    },
    {
      "cell_type": "code",
      "metadata": {
        "id": "jshJ3Ai8d_E-",
        "colab_type": "code",
        "colab": {}
      },
      "source": [
        "D_2 = D\n",
        "rrt_2 = rrt"
      ],
      "execution_count": 0,
      "outputs": []
    },
    {
      "cell_type": "code",
      "metadata": {
        "id": "cT-Sbwsad_n0",
        "colab_type": "code",
        "colab": {}
      },
      "source": [
        "D_3 = D\n",
        "rrt_3 = rrt"
      ],
      "execution_count": 0,
      "outputs": []
    },
    {
      "cell_type": "code",
      "metadata": {
        "id": "dxfX65IPeAG4",
        "colab_type": "code",
        "colab": {}
      },
      "source": [
        "D_4 = D\n",
        "rrt_4 = rrt"
      ],
      "execution_count": 0,
      "outputs": []
    },
    {
      "cell_type": "code",
      "metadata": {
        "id": "SLqGcQ-ccutV",
        "colab_type": "code",
        "colab": {}
      },
      "source": [
        "M=30\n",
        "x = np.linspace(0,10,M)\n",
        "y = np.linspace(0,10,M)\n",
        "\n",
        "#PROB = 0.5*(P1+P2) \n",
        "PROB = probb\n",
        "plt.contourf(x,y,1 - PROB, 30)\n",
        "v = np.linspace(0, 1.0, 11, endpoint=True)\n",
        "cbar=plt.colorbar(ticks=v)\n",
        "cbar.set_label('coverage probability',labelpad=20, rotation=270,fontsize=14) \n",
        "plt.xlabel('x (meter)',fontsize=14)\n",
        "plt.ylabel('y (meter)',fontsize=14)\n",
        "\n",
        "x = [5, 6.8, 6.4, 5, 3.2, 1.5, 3.4, 3.2, 2, 1, 1.7, 3.6, 6, 5.3, 7, 8.4, 8, 7.5]\n",
        "y = [5, 5, 6.7, 8, 7.8, 7.5, 5.7, 4.5, 5, 3.4, 2,2, 3.4, 1.6, 1, 5, 3.2, 7.5]\n",
        "plt.scatter(x,y)\n",
        "plt.gca().set_aspect('equal', adjustable='box')\n",
        "\n",
        "#search backward\n",
        "val = np.min(D_1)\n",
        "idx = np.argmin(D_1)\n",
        "q_final = rrt_1.nodes[idx]\n",
        "rrt_1.q_goal.parent = idx\n",
        "q_end = rrt_1.q_goal\n",
        "l = len(rrt_1.nodes.keys())\n",
        "rrt_1.nodes[l] = rrt_1.q_goal\n",
        "while q_end.parent != 0:\n",
        "  start = q_end.parent\n",
        "  plt.plot([q_end.coord[0], rrt_1.nodes[start].coord[0]] , [q_end.coord[1], rrt_1.nodes[start].coord[1]] , c = 'r',linewidth=4 )\n",
        "\n",
        "  q_end = rrt_1.nodes[start]\n",
        "\n",
        "plt.scatter(rrt_1.q_start.coord[0],rrt_1.q_start.coord[1], marker = 's', s=100, c = 'red', label = 'initial')\n",
        "plt.scatter(rrt_1.q_goal.coord[0],rrt_1.q_goal.coord[1], marker = 's', s=100, c = 'g', label = 'final')\n",
        "\n",
        "\n",
        "\n",
        "#search backward\n",
        "val = np.min(D_2)\n",
        "idx = np.argmin(D_2)\n",
        "q_final = rrt_2.nodes[idx]\n",
        "rrt_2.q_goal.parent = idx\n",
        "q_end = rrt_2.q_goal\n",
        "l = len(rrt_2.nodes.keys())\n",
        "rrt_2.nodes[l] = rrt_2.q_goal\n",
        "while q_end.parent != 0:\n",
        "  start = q_end.parent\n",
        "  plt.plot([q_end.coord[0], rrt_2.nodes[start].coord[0]] , [q_end.coord[1], rrt_2.nodes[start].coord[1]] , c = 'r',linewidth=4 )\n",
        "\n",
        "  q_end = rrt_2.nodes[start]\n",
        "\n",
        "plt.scatter(rrt_2.q_start.coord[0],rrt_2.q_start.coord[1], marker = 's', s=100, c = 'red')\n",
        "plt.scatter(rrt_2.q_goal.coord[0],rrt_2.q_goal.coord[1], marker = 's', s=100, c = 'g')\n",
        "\n",
        "\n",
        "#search backward\n",
        "val = np.min(D_3)\n",
        "idx = np.argmin(D_3)\n",
        "q_final = rrt_3.nodes[idx]\n",
        "rrt_3.q_goal.parent = idx\n",
        "q_end = rrt_3.q_goal\n",
        "l = len(rrt_3.nodes.keys())\n",
        "rrt_3.nodes[l] = rrt_3.q_goal\n",
        "while q_end.parent != 0:\n",
        "  start = q_end.parent\n",
        "  plt.plot([q_end.coord[0], rrt_3.nodes[start].coord[0]] , [q_end.coord[1], rrt_3.nodes[start].coord[1]] , c = 'r',linewidth=4 )\n",
        "\n",
        "  q_end = rrt_1.nodes[start]\n",
        "\n",
        "plt.scatter(rrt_3.q_start.coord[0],rrt_3.q_start.coord[1], marker = 's', s=100, c = 'red')\n",
        "plt.scatter(rrt_3.q_goal.coord[0],rrt_3.q_goal.coord[1], marker = 's', s=100, c = 'g')\n",
        "\n",
        "\n",
        "#search backward\n",
        "val = np.min(D_4)\n",
        "idx = np.argmin(D_4)\n",
        "q_final = rrt_4.nodes[idx]\n",
        "rrt_4.q_goal.parent = idx\n",
        "q_end = rrt_4.q_goal\n",
        "l = len(rrt_4.nodes.keys())\n",
        "rrt_4.nodes[l] = rrt_4.q_goal\n",
        "while q_end.parent != 0:\n",
        "  start = q_end.parent\n",
        "  plt.plot([q_end.coord[0], rrt_4.nodes[start].coord[0]] , [q_end.coord[1], rrt_4.nodes[start].coord[1]] , c = 'r',linewidth=4 )\n",
        "\n",
        "  q_end = rrt_4.nodes[start]\n",
        "\n",
        "plt.scatter(rrt_4.q_start.coord[0],rrt_4.q_start.coord[1], marker = 's', s=100, c = 'red')\n",
        "plt.scatter(rrt_4.q_goal.coord[0],rrt_4.q_goal.coord[1], marker = 's', s=100, c = 'g')\n",
        "\n",
        "\n",
        "\n",
        "\n",
        "plt.xlim(0,10)\n",
        "plt.ylim(0,10)\n",
        "plt.gca().set_aspect('equal', adjustable='box')\n",
        "\n",
        "plt.show()"
      ],
      "execution_count": 0,
      "outputs": []
    },
    {
      "cell_type": "code",
      "metadata": {
        "id": "KFSArLD9kDIO",
        "colab_type": "code",
        "outputId": "4938a5a5-325f-42b8-e601-b67427c2d536",
        "colab": {
          "base_uri": "https://localhost:8080/",
          "height": 322
        }
      },
      "source": [
        "M=30\n",
        "x = np.linspace(0,10,M)\n",
        "y = np.linspace(0,10,M)\n",
        "\n",
        "#PROB = 0.5*(P1+P2) \n",
        "PROB = probb\n",
        "plt.contourf(x,y,1 - PROB, 30)\n",
        "v = np.linspace(0, 1.0, 11, endpoint=True)\n",
        "cbar=plt.colorbar(ticks=v)\n",
        "cbar.set_label('coverage probability',labelpad=20, rotation=90,fontsize=14) \n",
        "plt.xlabel('x (km)',fontsize=14)\n",
        "plt.ylabel('y (km)',fontsize=14)\n",
        "\n",
        "#x = [5, 6.8, 6.4, 5, 3.2, 1.5, 3.4, 3.2, 2, 1, 1.7, 3.6, 6, 5.3, 7, 8.4, 8, 7.5]\n",
        "#y = [5, 5, 6.7, 8, 7.8, 7.5, 5.7, 4.5, 5, 3.4, 2,2, 3.4, 1.6, 1, 5, 3.2, 7.5]\n",
        "#plt.scatter(x,y)\n",
        "plt.gca().set_aspect('equal', adjustable='box')\n",
        "\n",
        "#search backward\n",
        "val = np.min(D_1)\n",
        "idx = np.argmin(D_1)\n",
        "q_final = rrt_1.nodes[idx]\n",
        "rrt_1.q_goal.parent = idx\n",
        "q_end = rrt_1.q_goal\n",
        "l = len(rrt_1.nodes.keys())\n",
        "rrt_1.nodes[l] = rrt_1.q_goal\n",
        "while q_end.parent != 0:\n",
        "  start = q_end.parent\n",
        "  plt.plot([q_end.coord[0], rrt_1.nodes[start].coord[0]] , [q_end.coord[1], rrt_1.nodes[start].coord[1]] , c = 'r',linewidth=2 )\n",
        "\n",
        "  q_end = rrt_1.nodes[start]\n",
        "plt.plot([q_end.coord[0], rrt_1.nodes[start].coord[0]] , [q_end.coord[1], rrt_1.nodes[start].coord[1]] , c = 'r',linewidth=2 )\n",
        "\n",
        "plt.scatter(rrt_1.q_start.coord[0],rrt_1.q_start.coord[1], marker = 's',ec = 'k',  s=140, c = 'red', label = 'initial')\n",
        "plt.scatter(rrt_1.q_goal.coord[0],rrt_1.q_goal.coord[1], marker = 's',ec = 'k', s=140, c = 'g', label = 'final')\n",
        "\n",
        "\n",
        "\n",
        "plt.legend(loc='best')\n",
        "plt.xlim(0,10)\n",
        "plt.ylim(0,10)\n",
        "plt.gca().set_aspect('equal', adjustable='box')\n",
        "plt.savefig('T2.eps',format = 'eps')\n",
        "plt.show()"
      ],
      "execution_count": 0,
      "outputs": [
        {
          "output_type": "stream",
          "text": [
            "The PostScript backend does not support transparency; partially transparent artists will be rendered opaque.\n",
            "The PostScript backend does not support transparency; partially transparent artists will be rendered opaque.\n"
          ],
          "name": "stderr"
        },
        {
          "output_type": "display_data",
          "data": {
            "image/png": "[encoded data removed]",
            "text/plain": [
              "<Figure size 432x288 with 2 Axes>"
            ]
          },
          "metadata": {
            "tags": [],
            "needs_background": "light"
          }
        }
      ]
    },
    {
      "cell_type": "code",
      "metadata": {
        "id": "9vJE5hPHcABO",
        "colab_type": "code",
        "outputId": "3885bffc-14df-4932-c648-e6086eeb73e3",
        "colab": {
          "base_uri": "https://localhost:8080/",
          "height": 34
        }
      },
      "source": [
        "rrt_1.q_goal.coord"
      ],
      "execution_count": 0,
      "outputs": [
        {
          "output_type": "execute_result",
          "data": {
            "text/plain": [
              "[8, 0.5]"
            ]
          },
          "metadata": {
            "tags": []
          },
          "execution_count": 33
        }
      ]
    },
    {
      "cell_type": "code",
      "metadata": {
        "id": "sKZsGaSCFIq3",
        "colab_type": "code",
        "colab": {}
      },
      "source": [
        "import dill                            #pip install dill --user\n",
        "filename = 'globalsave.pkl'\n",
        "# and to load the session again:\n",
        "dill.load_session(filename)"
      ],
      "execution_count": 0,
      "outputs": []
    }
  ]
}