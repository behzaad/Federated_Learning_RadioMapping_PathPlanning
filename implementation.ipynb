{
  "nbformat": 4,
  "nbformat_minor": 0,
  "metadata": {
    "colab": {
      "name": "Federated_Learning_Mapping_PathPlanning_GLOBECOM.ipynb",
      "provenance": [],
      "collapsed_sections": []
    },
    "kernelspec": {
      "name": "python3",
      "display_name": "Python 3"
    }
  },
  "cells": [
    {
      "cell_type": "markdown",
      "metadata": {
        "id": "OFKb7CXeICYB"
      },
      "source": [
        "This notebook is an implementation of the following paper:\n",
        "\n",
        "**Federated Learning for Cellular-connected UAVs: Radio Mapping and Path Planning**\n",
        "\n",
        "presented in IEEE Globecom 2020.\n",
        "\n",
        "Link to paper: https://arxiv.org/abs/2008.10054\n",
        "\n",
        "By: Behzad Khamidehi"
      ]
    },
    {
      "cell_type": "code",
      "metadata": {
        "id": "UQkZ5rFBDbOw"
      },
      "source": [
        "import numpy as np\n",
        "import matplotlib.pyplot as plt\n",
        "import random\n",
        "import math\n",
        "\n",
        "import torch\n",
        "import torch.nn as nn\n",
        "import torch.nn.functional as F\n",
        "from torch.autograd import Variable\n",
        "import torch.optim as optim"
      ],
      "execution_count": 1,
      "outputs": []
    },
    {
      "cell_type": "code",
      "metadata": {
        "id": "8hnVRYoAvUi2"
      },
      "source": [
        "from collections import namedtuple\n",
        "import warnings\n",
        "# warnings.simplefilter(\"error\")\n",
        "warnings.simplefilter(\"ignore\", UserWarning)\n",
        "\n",
        "Transition = namedtuple('Transition',('point', 'rss_target'))\n",
        "\n",
        "\n",
        "batch_size = 1000\n",
        "class ReplayMemory(object):\n",
        "    def __init__(self, capacity):\n",
        "        self.capacity = capacity\n",
        "        self.memory = []\n",
        "        self.position = 0\n",
        "\n",
        "    def push(self, *args):\n",
        "        \"\"\"Saves a transition.\"\"\"\n",
        "        if len(self.memory) < self.capacity:\n",
        "            self.memory.append(None)\n",
        "        self.memory[self.position] = Transition(*args)\n",
        "        self.position = (self.position + 1) % self.capacity\n",
        "\n",
        "    def sample(self, batch_size):\n",
        "        return random.sample(self.memory, batch_size)\n",
        "\n",
        "    def __len__(self):\n",
        "        return len(self.memory)"
      ],
      "execution_count": 2,
      "outputs": []
    },
    {
      "cell_type": "markdown",
      "source": [
        "## Network Configuration:\n",
        "\n",
        "The following figure shows the network configuration and the distribution of the ground base stations (GBSs)."
      ],
      "metadata": {
        "id": "ZYa1KSIEwfL6"
      }
    },
    {
      "cell_type": "code",
      "source": [
        "fig, ax = plt.subplots()\n",
        "x = [5, 6.8, 6.4, 5, 3.2, 1.5, 3.4, 3.2, 2, 1, 1.7, 3.6, 6, 5.3, 7, 8.4, 8, 7.5]\n",
        "y = [5, 5, 6.7, 8, 7.8, 7.5, 5.7, 4.5, 5, 3.4, 2,2, 3.4, 1.6, 1, 5, 3.2, 7.5]\n",
        "for i in range(len(x)):\n",
        "  ax.add_patch(plt.Circle((x[i], y[i]), 1, alpha=0.05))\n",
        "\n",
        "plt.scatter(x,y, marker = \"^\", s = 100, c = 'k', alpha=1, label = 'GBS')\n",
        "plt.xlabel('x (km)',fontsize=14)\n",
        "plt.xlim(0,10)\n",
        "plt.ylabel('y (km)',fontsize=14)\n",
        "plt.ylim(0,10)\n",
        "plt.gca().set_aspect('equal', adjustable='box')\n",
        "plt.grid(False)\n",
        "plt.legend(fontsize=14)\n",
        "plt.savefig('GBS.pdf',format = 'pdf')\n",
        "ax.plot()   #Causes an autoscale update.\n",
        "plt.show()"
      ],
      "metadata": {
        "colab": {
          "base_uri": "https://localhost:8080/",
          "height": 287
        },
        "id": "t3snhwwXwef9",
        "outputId": "62d9e08e-b9a5-4b6a-df36-6c0708703ca0"
      },
      "execution_count": 27,
      "outputs": [
        {
          "output_type": "display_data",
          "data": {
            "text/plain": [
              "<Figure size 432x288 with 1 Axes>"
            ],
            "image/png": "[encoded data removed]"
          },
          "metadata": {
            "needs_background": "light"
          }
        }
      ]
    },
    {
      "cell_type": "markdown",
      "source": [
        "## Agent\n",
        "\n",
        "Now, we create the agent class. This class specifies the flight area, the air2ground communiocation channel between the agent and the GBSs, and the movement of the agent. The initial position of the agent is randomly chosen.  "
      ],
      "metadata": {
        "id": "02ThbuW5w3fG"
      }
    },
    {
      "cell_type": "code",
      "metadata": {
        "id": "Iz_V5xMGakul"
      },
      "source": [
        "class Agent(object):\n",
        "  def __init__(self, X_min, X_max, Y_min, Y_max, replay_buffer_size, batch_size, thr):\n",
        "    self.X_min = X_min\n",
        "    self.X_max = X_max\n",
        "    self.Y_min = Y_min\n",
        "    self.Y_max = Y_max\n",
        "    self.batch_size = batch_size\n",
        "    self.thr = thr\n",
        "\n",
        "    self.UAV_position = [0,0]\n",
        "    self.UAV_position[0] = self.X_min + (self.X_max - self.X_min)*np.random.rand()\n",
        "    self.UAV_position[1] = self.Y_min + (self.Y_max - self.Y_min)*np.random.rand()\n",
        "\n",
        "\n",
        "    self.memory = ReplayMemory(replay_buffer_size)\n",
        "\n",
        "  def move(self, r):\n",
        "    theta = 2*np.pi * np.random.rand()\n",
        "    self.UAV_position[0] = self.UAV_position[0] + r*np.cos(theta)\n",
        "    self.UAV_position[1] = self.UAV_position[1] + r*np.sin(theta)\n",
        "    if self.UAV_position[0] < self.X_min:\n",
        "      self.UAV_position[0] = self.X_min\n",
        "    elif self.UAV_position[0] > self.X_max:\n",
        "      self.UAV_position[0] = self.X_max\n",
        "\n",
        "    if self.UAV_position[1] < self.Y_min:\n",
        "      self.UAV_position[1] = self.Y_min\n",
        "    elif self.UAV_position[1] > self.Y_max:\n",
        "      self.UAV_position[1] = self.Y_max\n",
        "\n",
        "    XY = np.zeros(2)\n",
        "    XY[0] = self.UAV_position[0]\n",
        "    XY[1] = self.UAV_position[1]\n",
        "    return XY\n",
        "    \n",
        "\n",
        "\n",
        "  def reset(self):\n",
        "    self.UAV_position = [0,0]\n",
        "    self.UAV_position[0] = self.X_min + (self.X_max - self.X_min)*np.random.rand()\n",
        "    self.UAV_position[1] = self.Y_min + (self.Y_max - self.Y_min)*np.random.rand()\n",
        "\n",
        "\n",
        "  def get_rss_target(self):\n",
        "    point = self.UAV_position\n",
        "    P = 0.2\n",
        "    x = [5, 6.8, 6.4, 5, 3.2, 1.5, 3.4, 3.2, 2, 1, 1.7, 3.6, 6, 5.3, 7, 8.4, 8, 7.5]\n",
        "    y = [5, 5, 6.7, 8, 7.8, 7.5, 5.7, 4.5, 5, 3.4, 2,2, 3.4, 1.6, 1, 5, 3.2, 7.5]\n",
        "    BS = {}\n",
        "    rss = {}\n",
        "    for b in range(len(x)):\n",
        "      BS[b] = np.zeros((2))\n",
        "      BS[b][0] = x[b]\n",
        "      BS[b][1] = y[b]\n",
        "      rss[b] = np.zeros(1)\n",
        "  \n",
        "    RSS =np.zeros(1)\n",
        "    \n",
        "    for b in BS.keys():\n",
        "      distance = (np.linalg.norm(point-BS[b]))**2 + 0.01\n",
        "      rss[b] = np.divide(P*random.random(), (84*84*1000*1000*distance) )\n",
        "    temp_var = np.sum([rss[b] for b in BS.keys()])\n",
        "    RSS = max([ rss[b]/(temp_var - rss[b] +10**(-14) ) for b in BS.keys()  ])\n",
        "    RSS = np.float32(RSS)\n",
        "    #RSS = torch.tensor(RSS)\n",
        "    RSS_target = int(0)\n",
        "    if RSS > self.thr:\n",
        "      RSS_target = 1\n",
        "    else:\n",
        "      RSS_target = 0 \n",
        "    return np.array([RSS_target])  \n",
        "\n",
        "\n",
        "\n",
        "  def store_transition(self, point, rss_target):\n",
        "    point = torch.from_numpy(point).float()\n",
        "    rss_target = torch.from_numpy(rss_target).long()\n",
        "    self.memory.push(point, rss_target)\n",
        "\n",
        "\n",
        "\n",
        "  def get_batch(self):\n",
        "    if len(self.memory) < self.batch_size:\n",
        "      return\n",
        "    transitions = self.memory.sample(self.batch_size)\n",
        "    batch = Transition(*zip(*transitions))\n",
        "    Points = torch.stack(batch.point)\n",
        "    RSS_target = torch.stack(batch.rss_target)\n",
        "    return Points.squeeze(), RSS_target.squeeze()"
      ],
      "execution_count": 28,
      "outputs": []
    },
    {
      "cell_type": "markdown",
      "source": [
        "Creating a sample agent:"
      ],
      "metadata": {
        "id": "zERi7At8xpDl"
      }
    },
    {
      "cell_type": "code",
      "metadata": {
        "id": "T59c5cQl4t22"
      },
      "source": [
        "UAV = Agent(0, 10, 0, 10, 100000, 30, 0.65)\n",
        "for i in range(1000):\n",
        "  UAV.reset()\n",
        "  point = UAV.move(0.5)\n",
        "  rss_target = UAV.get_rss_target()\n",
        "  UAV.store_transition(point,rss_target)\n",
        "Points, RSS_target = UAV.get_batch()\n",
        "\n",
        "print(RSS_target)"
      ],
      "execution_count": null,
      "outputs": []
    },
    {
      "cell_type": "markdown",
      "source": [
        "As described in the paper, this project has two parts:\n",
        "\n",
        "- Radio mapping\n",
        "\n",
        "- Path planning.\n",
        "\n",
        "For the radio mapping, we use a distributed learning algorithm (Federated Learning) to train a neural network that predicts the RSS in the area. Using this approach, the agents do not need to communicate directly. Also, we can use the data sets of all agents. \n",
        "\n"
      ],
      "metadata": {
        "id": "OfAl1f29bqoT"
      }
    },
    {
      "cell_type": "markdown",
      "source": [
        "# **Part 1- Radio Mapping**"
      ],
      "metadata": {
        "id": "3RuxPAGFcmDj"
      }
    },
    {
      "cell_type": "markdown",
      "metadata": {
        "id": "fWOmd7ghRdb3"
      },
      "source": [
        "## **Neural Network:**\n",
        "\n",
        "Here, we define the Neural Network which is used to generate the global outage model in the *sky*."
      ]
    },
    {
      "cell_type": "code",
      "metadata": {
        "id": "bmyhNSu4EGPX"
      },
      "source": [
        "class DNN(nn.Module):\n",
        "    def __init__(self, n_hidden):\n",
        "        super(DNN, self).__init__()\n",
        "        self.fc1 = nn.Linear(2, n_hidden)\n",
        "        self.fc2 = nn.Linear(n_hidden, n_hidden)\n",
        "        self.fc3 = nn.Linear(n_hidden, n_hidden)\n",
        "        self.fc5 = nn.Linear(n_hidden, 2)\n",
        "\n",
        "    def forward(self, x):\n",
        "        z = F.relu(self.fc1(x))\n",
        "        z = F.relu(self.fc2(z))\n",
        "        z = F.relu(self.fc3(z))\n",
        "        output = F.softmax(self.fc5(z))\n",
        "        return output"
      ],
      "execution_count": 29,
      "outputs": []
    },
    {
      "cell_type": "markdown",
      "source": [
        "In the Federated Learninng architecture, we have a number of workers and an aggregator. Here, we implement their functionalities:"
      ],
      "metadata": {
        "id": "js0iBlJDx-YO"
      }
    },
    {
      "cell_type": "code",
      "metadata": {
        "id": "89vWEsi6EZdX"
      },
      "source": [
        "def worker_update(worker_model, optimizer, Points, RSS_targets, epoch):\n",
        "  running_loss = 0\n",
        "  for e in range(epoch):\n",
        "    optimizer.zero_grad()\n",
        "    outputs = worker_model(Points)\n",
        "    loss = criterion(outputs, RSS_target)\n",
        "    loss.backward()\n",
        "    optimizer.step()\n",
        "    running_loss += loss.item()\n",
        "  return running_loss\n",
        "\n",
        "\n",
        "def server_aggregate(global_model, worker_models):\n",
        "  global_dict = global_model.state_dict()\n",
        "  for k in global_dict.keys():\n",
        "    global_dict[k] = torch.stack([worker_models[i].state_dict()[k] for i in range(len(worker_models))], 0).mean(0)\n",
        "  global_model.load_state_dict(global_dict)\n",
        "  for model in worker_models:\n",
        "    model.load_state_dict(global_model.state_dict())"
      ],
      "execution_count": 30,
      "outputs": []
    },
    {
      "cell_type": "code",
      "metadata": {
        "id": "IeTrD554F6AS"
      },
      "source": [
        "num_workers = 5\n",
        "\n",
        "global_model = DNN(n_hidden = 256) # Global model\n",
        "worker_models = [DNN(n_hidden = 256) for _ in range(num_workers)]\n",
        "for model in worker_models:\n",
        "    model.load_state_dict(global_model.state_dict())\n",
        "    # Broadcast the global model to the workers\n",
        "\n",
        "criterion = nn.CrossEntropyLoss()\n",
        "optimizer = [optim.Adam(model.parameters()) for model in worker_models]\n",
        "\n"
      ],
      "execution_count": 31,
      "outputs": []
    },
    {
      "cell_type": "markdown",
      "source": [
        "##  **Main Training Loop:**"
      ],
      "metadata": {
        "id": "u5q0DMmtyVoj"
      }
    },
    {
      "cell_type": "code",
      "metadata": {
        "id": "0UqvPp7tGJSc"
      },
      "source": [
        "#main:\n",
        "thr = .65\n",
        "UAV = [Agent(0, 10, 0, 10, 100000, batch_size, thr) for _ in range(num_workers)]\n",
        "\n",
        "num_rounds = 500\n",
        "epochs = 10\n",
        "n_samples = batch_size\n",
        "\n",
        "Avg_Loss_rounds = np.zeros(num_rounds) \n",
        "loss = np.zeros(num_workers)\n",
        "loss_rounds = np.zeros((num_rounds,num_workers))\n",
        "#Points, RSS_target = data_generator(n_samples,thr )\n",
        "Data = {}\n",
        "for w in range(num_workers):\n",
        "  Data[w]={}\n",
        "  Data[w]['Points'] = [] \n",
        "  Data[w]['RSS_target'] = []\n",
        "\n",
        "for r in range(num_rounds):\n",
        "  for w in range(num_workers):\n",
        "    UAV[w].reset()\n",
        "    for h in range(n_samples):\n",
        "      point = UAV[w].move(0.1)\n",
        "      rss_target = UAV[w].get_rss_target()\n",
        "      UAV[w].store_transition(point, rss_target)\n",
        "\n",
        "    Points, RSS_target = UAV[w].get_batch()\n",
        "    Data[w]['Points'] = Points \n",
        "    Data[w]['RSS_target'] = RSS_target\n",
        "    loss[w] += worker_update(worker_models[w], optimizer[w], Data[w]['Points'], Data[w]['RSS_target'], epoch=epochs)\n",
        "\n",
        "\n",
        "    loss_rounds[r,w] = np.copy(loss[w])#/((r+1)*epochs)\n",
        "\n",
        "\n",
        "    \n",
        "    # server aggregate\n",
        "  server_aggregate(global_model, worker_models)\n",
        "  Avg_Loss_rounds[r] = (np.mean(loss_rounds[r,:]))/((r+1)*epochs)\n",
        "  if r%10 == 0:\n",
        "    print('round number: { }, avg_loss: {}'.format(r, Avg_Loss_rounds[r]))\n"
      ],
      "execution_count": null,
      "outputs": []
    },
    {
      "cell_type": "markdown",
      "metadata": {
        "id": "AgpqHgXIJOOR"
      },
      "source": [
        "Based on the output of the trained neural network, we can obtain the outage probability in each point of the environment. the coordinates of these points are (x,y,H)"
      ]
    },
    {
      "cell_type": "code",
      "metadata": {
        "id": "4GNdP7J9QIGH",
        "colab": {
          "base_uri": "https://localhost:8080/",
          "height": 297
        },
        "outputId": "1c9996e1-e8d5-4c64-a568-cd65739c44d6"
      },
      "source": [
        "M=30\n",
        "x = np.linspace(0,10,M)\n",
        "y = np.linspace(0,10,M)\n",
        "probb = np.zeros((M,M))\n",
        "\n",
        "with torch.no_grad():\n",
        "  for ii in range(M):\n",
        "    for jj in range(M):\n",
        "      a = np.float32([ x[ii], y[jj] ])#.tolist()    \n",
        "      probb[ii,jj] = global_model(torch.tensor(a))[0]\n",
        "\n",
        "\n",
        "\n",
        "plt.figure(tight_layout=True)\n",
        "probb = probb.T\n",
        "plt.contourf(x,y,1- probb, 20)\n",
        "v = np.linspace(0, 1.0, 11, endpoint=True)\n",
        "cbar=plt.colorbar()\n",
        "cbar.set_label('coverage probability',labelpad=20, rotation=90,fontsize=14) \n",
        "plt.xlabel('x (km)',fontsize=14)\n",
        "plt.ylabel('y (km)',fontsize=14)\n",
        "\n",
        "#x = [5, 6.8, 6.4, 5, 3.2, 1.5, 3.4, 3.2, 2, 1, 1.7, 3.6, 6, 5.3, 7, 8.4, 8, 7.5]\n",
        "#y = [5, 5, 6.7, 8, 7.8, 7.5, 5.7, 4.5, 5, 3.4, 2,2, 3.4, 1.6, 1, 5, 3.2, 7.5]\n",
        "#plt.scatter(x,y, marker = \"^\", s = 20, c = 'k', alpha=0.3)\n",
        "plt.gca().set_aspect('equal', adjustable='box')\n",
        "plt.savefig('Outage.eps',format = 'eps')\n",
        "plt.show()\n"
      ],
      "execution_count": 36,
      "outputs": [
        {
          "output_type": "display_data",
          "data": {
            "text/plain": [
              "<Figure size 432x288 with 2 Axes>"
            ],
            "image/png": "[encoded data removed]"
          },
          "metadata": {
            "needs_background": "light"
          }
        }
      ]
    },
    {
      "cell_type": "markdown",
      "metadata": {
        "id": "wVCEZH96Juba"
      },
      "source": [
        "# **Part 2- Path Planning**\n",
        "\n",
        "The second part of the project is to design proper paths for the agents based on the resulting coverage model. For this purpose, we use RRT*, which is asampling-based path planning algorithm."
      ]
    },
    {
      "cell_type": "markdown",
      "metadata": {
        "id": "4TwcN9VajpQO"
      },
      "source": [
        "### **RRT-star**\n",
        "After generating the global model of the outage probability in the sky, we can use RRT* to obtain proper paths for the UAVs. \n",
        "\n",
        "\n",
        "In what follows, I present the code for the RRT* algorithm:"
      ]
    },
    {
      "cell_type": "code",
      "metadata": {
        "id": "7LxRp9oJesWj"
      },
      "source": [
        "class Node:\n",
        "  def __init__(self, coord, parent, cost):\n",
        "    \n",
        "    self.coord = coord\n",
        "    self.parent = parent\n",
        "    self.cost = cost\n",
        "\n",
        "class RRT:\n",
        "  def __init__(self,model):\n",
        "    self.model = model\n",
        "    self.nodes = {}\n",
        "    self.q_start = Node([4, 8],0,0)\n",
        "    self.q_goal = Node([8.5,8], None, 0)\n",
        "\n",
        "\n",
        "  def steer(self,qr, qn, val, eps):\n",
        "    qnew = [0,0]\n",
        "    if val >= eps:\n",
        "      dist = np.linalg.norm (np.subtract(qr,qn))\n",
        "      qnew[0] = qn[0] + ((qr[0] - qn[0])*eps)/dist\n",
        "      qnew[1] = qn[1] + ((qr[1] - qn[1])*eps)/dist\n",
        "    else:\n",
        "      qnew[0] = qr[0]\n",
        "      qnew[1] = qr[1]\n",
        "    return [qnew[0],qnew[1]]\n",
        "\n",
        "\n",
        "\n",
        "\n",
        "  def constraints(self,n2,n1):\n",
        "    # if satisfied return True\n",
        "    a = np.float32(n2)\n",
        "    b = np.float32(n1)\n",
        "    #a = np.float32([ x[ii], y[jj] ])#.tolist()    \n",
        "    prob_1= self.model(torch.tensor(a))[1]\n",
        "    prob_2= self.model(torch.tensor(b))[1]\n",
        "    if prob_1 > 0.5 and prob_2 >0.5:\n",
        "      return True\n",
        "    else:\n",
        "      return False"
      ],
      "execution_count": 43,
      "outputs": []
    },
    {
      "cell_type": "markdown",
      "source": [
        "Algorithm:"
      ],
      "metadata": {
        "id": "Yt5Vz0HIGlSw"
      }
    },
    {
      "cell_type": "code",
      "metadata": {
        "id": "7nmkrM2fLuDw"
      },
      "source": [
        "num_Nodes = 3000\n",
        "x_max = 5\n",
        "y_max = 5\n",
        "#EPS = 0.05\n",
        "EPS = 0.1\n",
        "r=0.2\n",
        "\n",
        "rrt = RRT(model)\n",
        "rrt.nodes[0] = rrt.q_start\n",
        "plt.figure()\n",
        "for n in range(num_Nodes):\n",
        "  q_rand = [5 + random.random()*x_max, 5 + random.random()*y_max ]\n",
        "  #plt.scatter(q_rand[0],q_rand[1], c = 'k', s = 10)\n",
        "  for j in range(len(rrt.nodes.keys())):\n",
        "    if np.linalg.norm( np.subtract(rrt.nodes[j].coord,rrt.q_goal.coord) ) < 0.5:\n",
        "      break\n",
        "  \n",
        "  ndist = []\n",
        "  for j in range(len(rrt.nodes.keys())):\n",
        "    n = rrt.nodes[j];\n",
        "    tmp = np.linalg.norm( np.subtract(n.coord, q_rand) );\n",
        "    ndist.append(tmp)\n",
        "  val = np.min(ndist)\n",
        "  idx = np.argmin(ndist)\n",
        "  q_near = rrt.nodes[idx]\n",
        "  q_new = Node(None, None, None)\n",
        "  q_new.coord = rrt.steer(q_rand, q_near.coord, val, EPS);\n",
        "  if rrt.constraints(q_rand, q_near.coord):\n",
        "    plt.plot([q_near.coord[0], q_new.coord[0]], [q_near.coord[1], q_new.coord[1]], c = 'b' )\n",
        "    q_new.cost = np.linalg.norm(np.subtract(q_new.coord , q_near.coord)) + q_near.cost;\n",
        "\n",
        "\n",
        "    q_nearest = {}\n",
        "    \n",
        "    neighbor_count = 0\n",
        "    for j in range(len(rrt.nodes.keys())):\n",
        "      if rrt.constraints( rrt.nodes[j].coord , q_new.coord ) and np.linalg.norm( np.subtract( rrt.nodes[j].coord , q_new.coord )) <= r:\n",
        "        q_nearest[neighbor_count] = Node(None, None, None)\n",
        "        q_nearest[neighbor_count].coord = rrt.nodes[j].coord\n",
        "        q_nearest[neighbor_count].cost = rrt.nodes[j].cost\n",
        "        neighbor_count +=1\n",
        "\n",
        "    q_min = q_near\n",
        "    C_min = q_new.cost\n",
        "    #print(q_nearest[0].cost)\n",
        "    for k in range(len(q_nearest.keys())):\n",
        "      if rrt.constraints(q_nearest[k].coord, q_new.coord) and (q_nearest[k].cost + np.linalg.norm( np.subtract(q_nearest[k].coord,q_new.coord)) < C_min):\n",
        "        q_min = q_nearest[k]\n",
        "        C_min = q_nearest[k].cost + np.linalg.norm( np.subtract( q_nearest[k].coord, q_new.coord ) ) \n",
        "        plt.plot([q_min.coord[0], q_new.coord[0]], [q_min.coord[1], q_new.coord[1]], c = 'g')\n",
        "\n",
        "    for j in range(len(rrt.nodes.keys())):\n",
        "      if rrt.nodes[j].coord[0] == q_min.coord[0] and rrt.nodes[j].coord[1] == q_min.coord[1]:\n",
        "        q_new.parent = j\n",
        "    \n",
        "    l = len(rrt.nodes.keys())\n",
        "    rrt.nodes[l] = q_new\n",
        "\n",
        "\n",
        "D = []\n",
        "for j in range(len(rrt.nodes.keys())):\n",
        "    tmpdist = np.linalg.norm(np.subtract(rrt.nodes[j].coord, rrt.q_goal.coord ) ) \n",
        "    D.append(tmpdist)\n",
        "\n",
        "#search backward\n",
        "val = np.min(D)\n",
        "idx = np.argmin(D)\n",
        "\n",
        "q_final = rrt.nodes[idx]\n",
        "rrt.q_goal.parent = idx\n",
        "q_end = rrt.q_goal\n",
        "l = len(rrt.nodes.keys())\n",
        "rrt.nodes[l] = rrt.q_goal\n",
        "while q_end.parent != 0:\n",
        "  start = q_end.parent\n",
        "  plt.plot([q_end.coord[0], rrt.nodes[start].coord[0]] , [q_end.coord[1], rrt.nodes[start].coord[1]] , c = 'r',linewidth=2 )\n",
        "\n",
        "  q_end = rrt.nodes[start]\n"
      ],
      "execution_count": null,
      "outputs": []
    },
    {
      "cell_type": "markdown",
      "source": [
        "Sample result:"
      ],
      "metadata": {
        "id": "X8iXYXEPGonz"
      }
    },
    {
      "cell_type": "code",
      "metadata": {
        "id": "7IJQ7VA0OVtk",
        "colab": {
          "base_uri": "https://localhost:8080/",
          "height": 287
        },
        "outputId": "b18a1481-63df-4079-c2c6-8a5fd4e1ea2d"
      },
      "source": [
        "M=30\n",
        "x = np.linspace(0,10,M)\n",
        "y = np.linspace(0,10,M)\n",
        "\n",
        "#PROB = 0.5*(P1+P2) \n",
        "PROB = probb\n",
        "plt.contourf(x,y,1 - PROB, 30)\n",
        "v = np.linspace(0, 1.0, 11, endpoint=True)\n",
        "cbar=plt.colorbar(ticks=v)\n",
        "cbar.set_label('coverage probability',labelpad=20, rotation=90,fontsize=14) \n",
        "plt.xlabel('x (km)',fontsize=14)\n",
        "plt.ylabel('y (km)',fontsize=14)\n",
        "\n",
        "\n",
        "plt.gca().set_aspect('equal', adjustable='box')\n",
        "\n",
        "#search backward\n",
        "val = np.min(D)\n",
        "idx = np.argmin(D)\n",
        "#rrt.q_goal.coord = [9,8]\n",
        "q_final = rrt.nodes[idx]\n",
        "rrt.q_goal.parent = idx\n",
        "q_end = rrt.q_goal\n",
        "l = len(rrt.nodes.keys())\n",
        "rrt.nodes[l] = rrt.q_goal\n",
        "while q_end.parent != 0:\n",
        "  start = q_end.parent\n",
        "  plt.plot([q_end.coord[0], rrt.nodes[start].coord[0]] , [q_end.coord[1], rrt.nodes[start].coord[1]] , c = 'r',linewidth=2, )\n",
        "\n",
        "  q_end = rrt.nodes[start]\n",
        "\n",
        "\n",
        "\n",
        "plt.scatter(rrt.q_start.coord[0],rrt.q_start.coord[1], marker = 's',ec = 'k', s=140, c = 'red', label = 'initial')\n",
        "plt.scatter(rrt.q_goal.coord[0],rrt.q_goal.coord[1], marker = 's', ec = 'k',  s=140, c = 'g', label ='final')\n",
        "plt.xlim(0,10)\n",
        "plt.ylim(0,10)\n",
        "plt.legend(loc ='best')\n",
        "plt.gca().set_aspect('equal', adjustable='box')\n",
        "plt.savefig('T2.pdf',format = 'pdf')\n",
        "plt.show()"
      ],
      "execution_count": 45,
      "outputs": [
        {
          "output_type": "display_data",
          "data": {
            "text/plain": [
              "<Figure size 432x288 with 2 Axes>"
            ],
            "image/png": "[encoded data removed]"
          },
          "metadata": {
            "needs_background": "light"
          }
        }
      ]
    }
  ]
}
